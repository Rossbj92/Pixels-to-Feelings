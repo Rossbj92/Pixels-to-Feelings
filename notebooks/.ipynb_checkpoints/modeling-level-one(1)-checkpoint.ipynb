{
 "cells": [
  {
   "cell_type": "markdown",
   "metadata": {
    "Collapsed": "false"
   },
   "source": [
    "# Load data"
   ]
  },
  {
   "cell_type": "code",
   "execution_count": 1,
   "metadata": {
    "Collapsed": "false"
   },
   "outputs": [],
   "source": [
    "import PIL.Image\n",
    "import matplotlib.pyplot as plt\n",
    "import numpy as np\n",
    "import pandas as pd\n",
    "import os\n",
    "from sklearn.model_selection import train_test_split\n",
    "import torch\n",
    "from torch import nn, optim\n",
    "from torch.utils.data import Dataset, DataLoader, random_split\n",
    "from torchvision import transforms, models\n",
    "import time\n",
    "import copy"
   ]
  },
  {
   "cell_type": "code",
   "execution_count": 2,
   "metadata": {
    "Collapsed": "false"
   },
   "outputs": [
    {
     "data": {
      "text/plain": [
       "'1.6.0'"
      ]
     },
     "execution_count": 2,
     "metadata": {},
     "output_type": "execute_result"
    }
   ],
   "source": [
    "torch.__version__"
   ]
  },
  {
   "cell_type": "code",
   "execution_count": 3,
   "metadata": {
    "Collapsed": "false"
   },
   "outputs": [
    {
     "data": {
      "text/plain": [
       "True"
      ]
     },
     "execution_count": 3,
     "metadata": {},
     "output_type": "execute_result"
    }
   ],
   "source": [
    "torch.cuda.is_available()"
   ]
  },
  {
   "cell_type": "code",
   "execution_count": 18,
   "metadata": {
    "Collapsed": "false"
   },
   "outputs": [],
   "source": [
    "device = torch.device(\"cuda\" if torch.cuda.is_available() else \"cpu\")"
   ]
  },
  {
   "cell_type": "code",
   "execution_count": 19,
   "metadata": {
    "Collapsed": "false"
   },
   "outputs": [],
   "source": [
    "# torch.set_default_tensor_type(torch.cuda.FloatTensor)\n",
    "torch.backends.cudnn.benchmark=True"
   ]
  },
  {
   "cell_type": "markdown",
   "metadata": {
    "Collapsed": "false"
   },
   "source": [
    "## Get CSVs"
   ]
  },
  {
   "cell_type": "code",
   "execution_count": 4,
   "metadata": {
    "Collapsed": "false"
   },
   "outputs": [],
   "source": [
    "train_df = pd.read_csv('../data/csvs/train.csv')\n",
    "# test_df = pd.read_csv('../data/csvs/test.csv')"
   ]
  },
  {
   "cell_type": "code",
   "execution_count": 5,
   "metadata": {
    "Collapsed": "false"
   },
   "outputs": [
    {
     "data": {
      "text/html": [
       "<div>\n",
       "<style scoped>\n",
       "    .dataframe tbody tr th:only-of-type {\n",
       "        vertical-align: middle;\n",
       "    }\n",
       "\n",
       "    .dataframe tbody tr th {\n",
       "        vertical-align: top;\n",
       "    }\n",
       "\n",
       "    .dataframe thead th {\n",
       "        text-align: right;\n",
       "    }\n",
       "</style>\n",
       "<table border=\"1\" class=\"dataframe\">\n",
       "  <thead>\n",
       "    <tr style=\"text-align: right;\">\n",
       "      <th></th>\n",
       "      <th>Unnamed: 0</th>\n",
       "      <th>file</th>\n",
       "      <th>lvl_three</th>\n",
       "      <th>lvl_one</th>\n",
       "      <th>lvl_two</th>\n",
       "    </tr>\n",
       "  </thead>\n",
       "  <tbody>\n",
       "    <tr>\n",
       "      <th>0</th>\n",
       "      <td>0</td>\n",
       "      <td>1_220_F_83683073_O4yJOnarzTjKXuUBAgkAifmiC8d0I...</td>\n",
       "      <td>1</td>\n",
       "      <td>0</td>\n",
       "      <td>3</td>\n",
       "    </tr>\n",
       "    <tr>\n",
       "      <th>1</th>\n",
       "      <td>1</td>\n",
       "      <td>20_220_F_5292725_818KTy3xv82nEkNolcs2m37MOV86s...</td>\n",
       "      <td>20</td>\n",
       "      <td>1</td>\n",
       "      <td>5</td>\n",
       "    </tr>\n",
       "    <tr>\n",
       "      <th>2</th>\n",
       "      <td>2</td>\n",
       "      <td>20_220_F_47187567_lwYwc9UQtBK5Be6v4P7HNsCc4Hhr...</td>\n",
       "      <td>20</td>\n",
       "      <td>1</td>\n",
       "      <td>5</td>\n",
       "    </tr>\n",
       "    <tr>\n",
       "      <th>3</th>\n",
       "      <td>3</td>\n",
       "      <td>1_220_F_38932828_Osns7NBWCq8AhJonYpQArrToDLLhT...</td>\n",
       "      <td>1</td>\n",
       "      <td>0</td>\n",
       "      <td>3</td>\n",
       "    </tr>\n",
       "    <tr>\n",
       "      <th>4</th>\n",
       "      <td>4</td>\n",
       "      <td>1_220_F_97168737_y0VWy7kLMby9BO6lHDfpyfNpW9o0S...</td>\n",
       "      <td>1</td>\n",
       "      <td>0</td>\n",
       "      <td>3</td>\n",
       "    </tr>\n",
       "  </tbody>\n",
       "</table>\n",
       "</div>"
      ],
      "text/plain": [
       "   Unnamed: 0                                               file  lvl_three  \\\n",
       "0           0  1_220_F_83683073_O4yJOnarzTjKXuUBAgkAifmiC8d0I...          1   \n",
       "1           1  20_220_F_5292725_818KTy3xv82nEkNolcs2m37MOV86s...         20   \n",
       "2           2  20_220_F_47187567_lwYwc9UQtBK5Be6v4P7HNsCc4Hhr...         20   \n",
       "3           3  1_220_F_38932828_Osns7NBWCq8AhJonYpQArrToDLLhT...          1   \n",
       "4           4  1_220_F_97168737_y0VWy7kLMby9BO6lHDfpyfNpW9o0S...          1   \n",
       "\n",
       "   lvl_one  lvl_two  \n",
       "0        0        3  \n",
       "1        1        5  \n",
       "2        1        5  \n",
       "3        0        3  \n",
       "4        0        3  "
      ]
     },
     "execution_count": 5,
     "metadata": {},
     "output_type": "execute_result"
    }
   ],
   "source": [
    "train_df.head(5)"
   ]
  },
  {
   "cell_type": "markdown",
   "metadata": {
    "Collapsed": "false"
   },
   "source": [
    "# Split data"
   ]
  },
  {
   "cell_type": "markdown",
   "metadata": {
    "Collapsed": "false"
   },
   "source": [
    "Scikit-learn definitely takes the cake for ease in stratified splitting. A helper function splits the training and validation sets for ease of input into a Pytorch dataset class."
   ]
  },
  {
   "cell_type": "code",
   "execution_count": 6,
   "metadata": {
    "Collapsed": "false"
   },
   "outputs": [],
   "source": [
    "def train_val_split(files, target, test_size, stratify=True):\n",
    "    \"\"\"\n",
    "    \n",
    "    \"\"\"\n",
    "    if stratify:\n",
    "        X_train, X_val, y_train, y_val = train_test_split(files, target, test_size=test_size, stratify=target)\n",
    "    else:\n",
    "        X_train, X_val, y_train, y_val = train_test_split(files, target, test_size=test_size)\n",
    "    train_split = pd.concat([X_train, y_train], axis = 1)\n",
    "    val_split = pd.concat([X_val, y_val], axis = 1) \n",
    "    return train_split, val_split"
   ]
  },
  {
   "cell_type": "code",
   "execution_count": 7,
   "metadata": {
    "Collapsed": "false"
   },
   "outputs": [],
   "source": [
    "train_split, val_split = train_val_split(train_df['file'], train_df['lvl_one'], test_size=0.1)"
   ]
  },
  {
   "cell_type": "markdown",
   "metadata": {
    "Collapsed": "false"
   },
   "source": [
    "# Utils"
   ]
  },
  {
   "cell_type": "code",
   "execution_count": 8,
   "metadata": {
    "Collapsed": "false"
   },
   "outputs": [],
   "source": [
    "# import numpy as np\n",
    "# import torch\n",
    "\n",
    "class EarlyStopping:\n",
    "    \"\"\"Early stops the training if validation loss doesn't improve after a given patience.\n",
    "    \n",
    "    Developed by: https://github.com/Bjarten/early-stopping-pytorch\n",
    "    \n",
    "    \"\"\"\n",
    "    def __init__(self, patience=7, verbose=False, delta=0, path='checkpoint.pt', trace_func=print):\n",
    "        \"\"\"\n",
    "        Args:\n",
    "            patience (int): How long to wait after last time validation loss improved.\n",
    "                            Default: 7\n",
    "            verbose (bool): If True, prints a message for each validation loss improvement. \n",
    "                            Default: False\n",
    "            delta (float): Minimum change in the monitored quantity to qualify as an improvement.\n",
    "                            Default: 0\n",
    "            path (str): Path for the checkpoint to be saved to.\n",
    "                            Default: 'checkpoint.pt'\n",
    "            trace_func (function): trace print function.\n",
    "                            Default: print            \n",
    "        \"\"\"\n",
    "        self.patience = patience\n",
    "        self.verbose = verbose\n",
    "        self.counter = 0\n",
    "        self.best_score = None\n",
    "        self.early_stop = False\n",
    "        self.val_loss_min = np.Inf\n",
    "        self.delta = delta\n",
    "        self.path = path\n",
    "        self.trace_func = trace_func\n",
    "    def __call__(self, val_loss, model):\n",
    "\n",
    "        score = -val_loss\n",
    "\n",
    "        if self.best_score is None:\n",
    "            self.best_score = score\n",
    "        elif score < self.best_score + self.delta:\n",
    "            self.counter += 1\n",
    "            self.trace_func(f'EarlyStopping counter: {self.counter} out of {self.patience}')\n",
    "            if self.counter >= self.patience:\n",
    "                self.early_stop = True\n",
    "        else:\n",
    "            self.best_score = score\n",
    "            self.counter = 0"
   ]
  },
  {
   "cell_type": "code",
   "execution_count": 9,
   "metadata": {
    "Collapsed": "false"
   },
   "outputs": [],
   "source": [
    "def train_model(model, dataloader, criterion, optimizer, save_path, num_epochs=25):\n",
    "    since = time.time()\n",
    "    \n",
    "    train_loss_history = []\n",
    "    train_acc_history = []\n",
    "    val_loss_history = []\n",
    "    val_acc_history = []\n",
    "\n",
    "#     best_model_wts = copy.deepcopy(model.state_dict())\n",
    "    best_acc = 0.0\n",
    "    best_loss = np.inf\n",
    "    \n",
    "    # initialize the early_stopping object\n",
    "    early_stopping = EarlyStopping(patience=7, verbose=True)\n",
    "    \n",
    "    for epoch in range(num_epochs):\n",
    "        \n",
    "        epoch_time = time.time()\n",
    "        \n",
    "        print('Epoch {}/{}'.format(epoch, num_epochs - 1))\n",
    "        print('-' * 10)\n",
    "        \n",
    "        if early_stopping.early_stop:\n",
    "                    print(\"Early stopping\")\n",
    "                    break\n",
    "\n",
    "        # Each epoch has a training and validation phase\n",
    "        for phase in ['train', 'val']:\n",
    "            if phase == 'train':\n",
    "                model.train()  # Set model to training mode\n",
    "            else:\n",
    "                model.eval()   # Set model to evaluate mode\n",
    "\n",
    "            running_loss = 0.0\n",
    "            running_corrects = 0\n",
    "\n",
    "            # Iterate over data.\n",
    "            for inputs, labels in dataloader[phase]:\n",
    "                inputs = inputs.to(device)\n",
    "                labels = labels.to(device)\n",
    "                # zero the parameter gradients\n",
    "                optimizer.zero_grad()\n",
    "\n",
    "                # forward\n",
    "                # track history if only in train\n",
    "                with torch.set_grad_enabled(phase == 'train'):\n",
    "                    # Get model outputs and calculate loss\n",
    "                    outputs = model(inputs)\n",
    "                    loss = criterion(outputs, labels)\n",
    "                    _, preds = torch.max(outputs, 1)\n",
    "                    # backward + optimize only if in training phase\n",
    "                    if phase == 'train':\n",
    "                        loss.backward()\n",
    "                        optimizer.step()\n",
    "\n",
    "                # statistics\n",
    "                running_loss += loss.item() * inputs.size(0)\n",
    "                running_corrects += torch.sum(preds == labels.data)\n",
    "                \n",
    "            epoch_time_elapsed = time.time() - epoch_time\n",
    "            print('Training complete in {:.0f}m {:.0f}s'.format(epoch_time_elapsed // 60, epoch_time_elapsed % 60))\n",
    "\n",
    "            epoch_loss = running_loss / len(dataloader[phase].dataset)\n",
    "            epoch_acc = running_corrects.double() / len(dataloader[phase].dataset)\n",
    "\n",
    "            print('{} Loss: {:.4f} Acc: {:.4f}'.format(phase, epoch_loss, epoch_acc))\n",
    "            \n",
    "            # deep copy the model\n",
    "            if phase == 'val' and epoch_acc > best_acc:\n",
    "                best_acc = epoch_acc\n",
    "            if phase == 'val' and epoch_loss < best_loss:\n",
    "                best_loss = epoch_loss\n",
    "                print('saving model')\n",
    "                save_model(save_path, epoch, model, optimizer, epoch_loss, epoch_acc)\n",
    "            # save metrics\n",
    "            if phase == 'train':\n",
    "                train_acc_history.append(epoch_acc)\n",
    "                train_loss_history.append(epoch_loss)\n",
    "            if phase == 'val':\n",
    "                val_acc_history.append(epoch_acc)\n",
    "                val_loss_history.append(epoch_loss)\n",
    "                early_stopping(epoch_loss, model)\n",
    "\n",
    "                if early_stopping.early_stop:\n",
    "                    print(\"Early stopping\")\n",
    "                    break\n",
    "            #early stopping\n",
    "            \n",
    "        print()\n",
    "        \n",
    "\n",
    "    time_elapsed = time.time() - since\n",
    "    print('Training complete in {:.0f}m {:.0f}s'.format(time_elapsed // 60, time_elapsed % 60))\n",
    "    \n",
    "\n",
    "    # load best model weights\n",
    "    #model.load_state_dict(best_model_wts)\n",
    "    checkpoint = torch.load(save_path)\n",
    "    model.load_state_dict(checkpoint['model_state_dict'])\n",
    "    print('Best val Acc: {:4f}'.format(checkpoint['acc']))\n",
    "    print('Best val Loss: {:4f}'.format(checkpoint['loss']))\n",
    "    \n",
    "    return model, train_loss_history, train_acc_history, val_loss_history, val_acc_history"
   ]
  },
  {
   "cell_type": "code",
   "execution_count": 10,
   "metadata": {
    "Collapsed": "false"
   },
   "outputs": [],
   "source": [
    "def save_model(path, epoch, model, optimizer, loss, acc):\n",
    "    torch.save({\n",
    "                'epoch': epoch,\n",
    "                'model_state_dict': model.state_dict(),\n",
    "                'optimizer_state_dict': optimizer.state_dict(),\n",
    "                'loss': loss,\n",
    "                'acc': acc\n",
    "                }, path)"
   ]
  },
  {
   "cell_type": "markdown",
   "metadata": {
    "Collapsed": "true"
   },
   "source": [
    "# Dataset & Dataloaders"
   ]
  },
  {
   "cell_type": "code",
   "execution_count": 11,
   "metadata": {
    "Collapsed": "false"
   },
   "outputs": [],
   "source": [
    "class ImgDataset(Dataset):\n",
    "    \"\"\"Face Landmarks dataset.\"\"\"\n",
    "\n",
    "    def __init__(self, df, root_dir, percent_sample=None, transform=None):\n",
    "        \"\"\"\n",
    "        Args:\n",
    "            csv_file (string): Path to the csv file with annotations.\n",
    "            root_dir (string): Directory with all the images.\n",
    "            transform (callable, optional): Optional transform to be applied\n",
    "                on a sample.\n",
    "        \"\"\"\n",
    "        self.img_df=df\n",
    "        self.root_dir=root_dir\n",
    "        self.transform=transform\n",
    "        self.percent_sample=percent_sample\n",
    "\n",
    "    def __len__(self):\n",
    "        if self.percent_sample:\n",
    "            assert self.percent_sample > 0.0, 'Percentage to sample must be >= 0 and <= 1.'\n",
    "            assert self.percent_sample <= 1.0, 'Percentage to sample must be >= 0 and <= 1.'\n",
    "            return int(np.floor(len(self.img_df) * self.percent_sample))\n",
    "        else:\n",
    "            return len(self.img_df)\n",
    "\n",
    "    def __getitem__(self, idx):\n",
    "        if torch.is_tensor(idx):\n",
    "            idx = idx.tolist()\n",
    "            \n",
    "        img_name = os.path.join(self.root_dir,\n",
    "                                self.img_df.iloc[idx, 0])\n",
    "        X = PIL.Image.open(img_name).convert('RGB') #Some images in greyscale, so converting to ensure 3 channels - 1 causes issues in transformers\n",
    "        y = self.img_df.iloc[idx, 1]\n",
    "        \n",
    "        if self.transform:\n",
    "            X = self.transform(X)\n",
    "\n",
    "        return X, y"
   ]
  },
  {
   "cell_type": "code",
   "execution_count": 12,
   "metadata": {
    "Collapsed": "false"
   },
   "outputs": [],
   "source": [
    "train_transforms = transforms.Compose([ \n",
    "    transforms.Resize(256),\n",
    "    transforms.RandomResizedCrop(224),\n",
    "    transforms.ToTensor(),\n",
    "    transforms.Normalize(mean=[0.485, 0.456, 0.406], #OG means/sds from imagenet\n",
    "                         std=[0.229, 0.224, 0.225])\n",
    "])\n",
    "val_transforms = transforms.Compose([ \n",
    "    transforms.Resize(256),\n",
    "    transforms.CenterCrop(224),\n",
    "    transforms.ToTensor(),\n",
    "    transforms.Normalize(mean=[0.485, 0.456, 0.406],\n",
    "                         std=[0.229, 0.224, 0.225])\n",
    "])"
   ]
  },
  {
   "cell_type": "code",
   "execution_count": 13,
   "metadata": {
    "Collapsed": "false"
   },
   "outputs": [],
   "source": [
    "train_dataset = ImgDataset(df=train_split,\n",
    "                           root_dir='../data/images/train/train',\n",
    "                           percent_sample=1,\n",
    "                           transform=train_transforms\n",
    "                          )\n",
    "val_dataset = ImgDataset(df=val_split,\n",
    "                           root_dir='../data/images/train/train',\n",
    "                           percent_sample=1,\n",
    "                           transform=val_transforms\n",
    "                          )"
   ]
  },
  {
   "cell_type": "code",
   "execution_count": 14,
   "metadata": {
    "Collapsed": "false"
   },
   "outputs": [],
   "source": [
    "train_loader = DataLoader(train_dataset,\n",
    "                          batch_size=128, \n",
    "                          shuffle=True,\n",
    "                          pin_memory=True,\n",
    "                          num_workers=4)\n",
    "val_loader = DataLoader(val_dataset, \n",
    "                        batch_size=128,\n",
    "                        pin_memory=True,\n",
    "                        num_workers=4)"
   ]
  },
  {
   "cell_type": "code",
   "execution_count": 15,
   "metadata": {
    "Collapsed": "false"
   },
   "outputs": [],
   "source": [
    "loaders_dict = {'train': train_loader, \n",
    "                'val': val_loader}"
   ]
  },
  {
   "cell_type": "markdown",
   "metadata": {
    "Collapsed": "false"
   },
   "source": [
    "# Training"
   ]
  },
  {
   "cell_type": "code",
   "execution_count": 16,
   "metadata": {
    "Collapsed": "false"
   },
   "outputs": [],
   "source": [
    "num_classes = 2\n",
    "num_epochs = 10"
   ]
  },
  {
   "cell_type": "code",
   "execution_count": 29,
   "metadata": {
    "Collapsed": "false",
    "scrolled": true
   },
   "outputs": [],
   "source": [
    "model_ft = models.resnet50(pretrained=True)\n",
    "num_ftrs = model_ft.fc.in_features\n",
    "model_ft.fc = nn.Sequential(nn.Linear(num_ftrs, num_classes))\n",
    "model_ft = model_ft.to(device)\n",
    "criterion = nn.CrossEntropyLoss().to(device)\n",
    "# optimizer_ft = torch.optim.SGD(model_ft.parameters(), \n",
    "#                                lr=0.01, \n",
    "#                                momentum=0.9, \n",
    "#                                weight_decay=0.0001)\n",
    "optimizer_ft = torch.optim.SGD(model_ft.parameters(), \n",
    "                               lr=0.01, \n",
    "                               momentum=0.9, \n",
    "                               weight_decay=0.0001,\n",
    "                               nesterov=True)"
   ]
  },
  {
   "cell_type": "code",
   "execution_count": 30,
   "metadata": {
    "Collapsed": "false"
   },
   "outputs": [],
   "source": [
    "torch.cuda.empty_cache()"
   ]
  },
  {
   "cell_type": "code",
   "execution_count": 23,
   "metadata": {
    "Collapsed": "false"
   },
   "outputs": [],
   "source": [
    "# load_model = torch.load()\n",
    "# model_new = "
   ]
  },
  {
   "cell_type": "code",
   "execution_count": 31,
   "metadata": {
    "Collapsed": "false",
    "jupyter": {
     "outputs_hidden": true
    }
   },
   "outputs": [
    {
     "name": "stdout",
     "output_type": "stream",
     "text": [
      "Epoch 0/9\n",
      "----------\n",
      "Training complete in 9m 12s\n",
      "train Loss: 0.6033 Acc: 0.6768\n",
      "Training complete in 9m 33s\n",
      "val Loss: 0.5379 Acc: 0.7199\n",
      "saving model\n",
      "\n",
      "Epoch 1/9\n",
      "----------\n",
      "Training complete in 9m 12s\n",
      "train Loss: 0.5495 Acc: 0.7138\n",
      "Training complete in 9m 32s\n",
      "val Loss: 0.5268 Acc: 0.7322\n",
      "saving model\n",
      "\n",
      "Epoch 2/9\n",
      "----------\n",
      "Training complete in 9m 12s\n",
      "train Loss: 0.5318 Acc: 0.7276\n",
      "Training complete in 9m 33s\n",
      "val Loss: 0.4995 Acc: 0.7548\n",
      "saving model\n",
      "\n",
      "Epoch 3/9\n",
      "----------\n",
      "Training complete in 9m 12s\n",
      "train Loss: 0.5214 Acc: 0.7361\n",
      "Training complete in 9m 33s\n",
      "val Loss: 0.4995 Acc: 0.7532\n",
      "saving model\n",
      "\n",
      "Epoch 4/9\n",
      "----------\n",
      "Training complete in 9m 12s\n",
      "train Loss: 0.5105 Acc: 0.7432\n",
      "Training complete in 9m 33s\n",
      "val Loss: 0.4945 Acc: 0.7599\n",
      "saving model\n",
      "\n",
      "Epoch 5/9\n",
      "----------\n",
      "Training complete in 9m 13s\n",
      "train Loss: 0.5027 Acc: 0.7500\n",
      "Training complete in 9m 34s\n",
      "val Loss: 0.4941 Acc: 0.7616\n",
      "saving model\n",
      "\n",
      "Epoch 6/9\n",
      "----------\n",
      "Training complete in 9m 12s\n",
      "train Loss: 0.4957 Acc: 0.7537\n",
      "Training complete in 9m 32s\n",
      "val Loss: 0.4887 Acc: 0.7612\n",
      "saving model\n",
      "\n",
      "Epoch 7/9\n",
      "----------\n",
      "Training complete in 9m 13s\n",
      "train Loss: 0.4888 Acc: 0.7575\n",
      "Training complete in 9m 34s\n",
      "val Loss: 0.4963 Acc: 0.7634\n",
      "EarlyStopping counter: 1 out of 7\n",
      "\n",
      "Epoch 8/9\n",
      "----------\n",
      "Training complete in 9m 12s\n",
      "train Loss: 0.4820 Acc: 0.7623\n",
      "Training complete in 9m 33s\n",
      "val Loss: 0.5061 Acc: 0.7568\n",
      "EarlyStopping counter: 2 out of 7\n",
      "\n",
      "Epoch 9/9\n",
      "----------\n",
      "Training complete in 9m 12s\n",
      "train Loss: 0.4773 Acc: 0.7650\n",
      "Training complete in 9m 33s\n",
      "val Loss: 0.4988 Acc: 0.7591\n",
      "EarlyStopping counter: 3 out of 7\n",
      "\n",
      "Training complete in 95m 36s\n",
      "Best val Acc: 0.761170\n",
      "Best val Loss: 0.488726\n"
     ]
    }
   ],
   "source": [
    "# Run the functions and save the best model in the function model_ft.\n",
    "model_ft, \\\n",
    "train_val, train_acc, \\\n",
    "val_loss, val_acc = train_model(model_ft, \n",
    "                                loaders_dict, \n",
    "                                criterion, \n",
    "                                optimizer_ft,\n",
    "                                'nesterov_sgd.tar',\n",
    "                                num_epochs)"
   ]
  },
  {
   "cell_type": "markdown",
   "metadata": {
    "Collapsed": "false"
   },
   "source": [
    "**No flip 128 batch**\n",
    "```\n",
    "Epoch 0/29\n",
    "----------\n",
    "train Loss: 0.6071 Acc: 0.6711\n",
    "val Loss: 0.5384 Acc: 0.7260\n",
    "saving model\n",
    "\n",
    "Epoch 1/29\n",
    "----------\n",
    "train Loss: 0.5551 Acc: 0.7111\n",
    "val Loss: 0.5088 Acc: 0.7471\n",
    "saving model\n",
    "\n",
    "Epoch 2/29\n",
    "----------\n",
    "train Loss: 0.5387 Acc: 0.7228\n",
    "val Loss: 0.5343 Acc: 0.7382\n",
    "EarlyStopping counter: 1 out of 7\n",
    "\n",
    "Epoch 3/29\n",
    "----------\n",
    "train Loss: 0.5245 Acc: 0.7334\n",
    "val Loss: 0.5078 Acc: 0.7543\n",
    "saving model\n",
    "\n",
    "Epoch 4/29\n",
    "----------\n",
    "train Loss: 0.5143 Acc: 0.7396\n",
    "val Loss: 0.4914 Acc: 0.7600\n",
    "saving model\n",
    "\n",
    "Epoch 5/29\n",
    "----------\n",
    "train Loss: 0.5056 Acc: 0.7453\n",
    "val Loss: 0.4941 Acc: 0.7624\n",
    "EarlyStopping counter: 1 out of 7\n",
    "\n",
    "Epoch 6/29\n",
    "----------\n",
    "train Loss: 0.4989 Acc: 0.7514\n",
    "val Loss: 0.4850 Acc: 0.7676\n",
    "saving model\n",
    "\n",
    "Epoch 7/29\n",
    "----------\n",
    "train Loss: 0.4924 Acc: 0.7536\n",
    "val Loss: 0.4955 Acc: 0.7626\n",
    "EarlyStopping counter: 1 out of 7\n",
    "\n",
    "Epoch 8/29\n",
    "----------\n",
    "train Loss: 0.4870 Acc: 0.7576\n",
    "val Loss: 0.4872 Acc: 0.7701\n",
    "EarlyStopping counter: 2 out of 7\n",
    "\n",
    "Epoch 9/29\n",
    "----------\n",
    "train Loss: 0.4795 Acc: 0.7633\n",
    "val Loss: 0.5159 Acc: 0.7578\n",
    "EarlyStopping counter: 3 out of 7\n",
    "\n",
    "Epoch 10/29\n",
    "----------\n",
    "train Loss: 0.4750 Acc: 0.7648\n",
    "val Loss: 0.4992 Acc: 0.7687\n",
    "EarlyStopping counter: 4 out of 7\n",
    "\n",
    "Epoch 11/29\n",
    "----------\n",
    "train Loss: 0.4711 Acc: 0.7684\n",
    "val Loss: 0.5064 Acc: 0.7567\n",
    "EarlyStopping counter: 5 out of 7\n",
    "\n",
    "Epoch 12/29\n",
    "----------\n",
    "train Loss: 0.4665 Acc: 0.7719\n",
    "val Loss: 0.4952 Acc: 0.7672\n",
    "EarlyStopping counter: 6 out of 7\n",
    "\n",
    "Epoch 13/29\n",
    "----------\n",
    "train Loss: 0.4616 Acc: 0.7760\n",
    "val Loss: 0.4994 Acc: 0.7657\n",
    "EarlyStopping counter: 7 out of 7\n",
    "```"
   ]
  },
  {
   "cell_type": "markdown",
   "metadata": {
    "Collapsed": "false"
   },
   "source": [
    "**Second round**\n",
    "```\n",
    "Epoch 0/29\n",
    "----------\n",
    "train Loss: 0.6065 Acc: 0.6713\n",
    "val Loss: 0.5427 Acc: 0.7226\n",
    "\n",
    "Epoch 1/29\n",
    "----------\n",
    "train Loss: 0.5548 Acc: 0.7116\n",
    "val Loss: 0.5775 Acc: 0.7160\n",
    "EarlyStopping counter: 1 out of 7\n",
    "\n",
    "Epoch 2/29\n",
    "----------\n",
    "train Loss: 0.5371 Acc: 0.7252\n",
    "val Loss: 0.4903 Acc: 0.7586\n",
    "\n",
    "Epoch 3/29\n",
    "----------\n",
    "train Loss: 0.5233 Acc: 0.7335\n",
    "val Loss: 0.5118 Acc: 0.7479\n",
    "EarlyStopping counter: 1 out of 7\n",
    "\n",
    "Epoch 4/29\n",
    "----------\n",
    "train Loss: 0.5140 Acc: 0.7407\n",
    "val Loss: 0.4950 Acc: 0.7586\n",
    "EarlyStopping counter: 2 out of 7\n",
    "\n",
    "Epoch 5/29\n",
    "----------\n",
    "train Loss: 0.5055 Acc: 0.7456\n",
    "val Loss: 0.5105 Acc: 0.7555\n",
    "EarlyStopping counter: 3 out of 7\n",
    "\n",
    "Epoch 6/29\n",
    "----------\n",
    "train Loss: 0.4973 Acc: 0.7521\n",
    "val Loss: 0.5002 Acc: 0.7593\n",
    "EarlyStopping counter: 4 out of 7\n",
    "\n",
    "Epoch 7/29\n",
    "----------\n",
    "train Loss: 0.4919 Acc: 0.7550\n",
    "val Loss: 0.4928 Acc: 0.7637\n",
    "EarlyStopping counter: 5 out of 7\n",
    "\n",
    "Epoch 8/29\n",
    "----------\n",
    "train Loss: 0.4846 Acc: 0.7603\n",
    "val Loss: 0.4908 Acc: 0.7631\n",
    "EarlyStopping counter: 6 out of 7\n",
    "\n",
    "Epoch 9/29\n",
    "----------\n",
    "train Loss: 0.4799 Acc: 0.7636\n",
    "val Loss: 0.4953 Acc: 0.7636\n",
    "EarlyStopping counter: 7 out of 7\n",
    "Early stopping\n",
    "\n",
    "Epoch 10/29\n",
    "----------\n",
    "Early stopping\n",
    "Training complete in 97m 3s\n",
    "\n",
    "```"
   ]
  },
  {
   "cell_type": "code",
   "execution_count": null,
   "metadata": {
    "Collapsed": "false"
   },
   "outputs": [],
   "source": [
    "# checkpoint = torch.load('best_model.tar')\n",
    "# model_ft.load_state_dict(checkpoint['model_state_dict'])\n",
    "# # optimizer_ft.load_state_dict(checkpoint['optimizer_state_dict'])\n",
    "# epoch = checkpoint['epoch']\n",
    "# loss = checkpoint['loss']"
   ]
  },
  {
   "cell_type": "code",
   "execution_count": null,
   "metadata": {
    "Collapsed": "false"
   },
   "outputs": [],
   "source": []
  }
 ],
 "metadata": {
  "kernelspec": {
   "display_name": "Python 3",
   "language": "python",
   "name": "python3"
  },
  "language_info": {
   "codemirror_mode": {
    "name": "ipython",
    "version": 3
   },
   "file_extension": ".py",
   "mimetype": "text/x-python",
   "name": "python",
   "nbconvert_exporter": "python",
   "pygments_lexer": "ipython3",
   "version": "3.7.7"
  }
 },
 "nbformat": 4,
 "nbformat_minor": 4
}
