{
 "cells": [
  {
   "cell_type": "markdown",
   "metadata": {
    "Collapsed": "false"
   },
   "source": [
    "---"
   ]
  },
  {
   "cell_type": "code",
   "execution_count": 3,
   "metadata": {
    "Collapsed": "false"
   },
   "outputs": [],
   "source": [
    "%load_ext autoreload\n",
    "%autoreload 2"
   ]
  },
  {
   "cell_type": "code",
   "execution_count": 4,
   "metadata": {
    "Collapsed": "false"
   },
   "outputs": [],
   "source": [
    "import sys\n",
    "sys.path.append(sys.path[0].replace('notebooks', 'src'))\n",
    "\n",
    "import image_gathering.gather_utils as g"
   ]
  },
  {
   "cell_type": "markdown",
   "metadata": {
    "Collapsed": "false"
   },
   "source": [
    "---"
   ]
  },
  {
   "cell_type": "markdown",
   "metadata": {
    "Collapsed": "false"
   },
   "source": [
    "The WEBEmo images are not aggregated and able to be downloaded directly -- rather, they are retrieved from URLs. This notebook has 2 purposes:\n",
    "1. Format the WEBEmo txt files to make things easier when modeling\n",
    "2. Gather the ~268,000 images\n",
    "<br>\n",
    "\n",
    "With the ```pool_image_retrieval()``` function, I utilize multi-threading to substantially boost image retrieval times. The dataset is far too bulky for upload, but one can use this notebook for efficient retrieval if so desired."
   ]
  },
  {
   "cell_type": "code",
   "execution_count": 49,
   "metadata": {
    "Collapsed": "false"
   },
   "outputs": [],
   "source": [
    "train, test = g.load_data()"
   ]
  },
  {
   "cell_type": "markdown",
   "metadata": {
    "Collapsed": "false"
   },
   "source": [
    "<br>\n",
    "\n",
    "This is the ```train25.txt``` file with a bit of pre-processing. ```Label``` corresponds to the level-3 label, so I'll still need to add in level-2 and level-1."
   ]
  },
  {
   "cell_type": "code",
   "execution_count": 34,
   "metadata": {
    "Collapsed": "false"
   },
   "outputs": [
    {
     "data": {
      "text/html": [
       "<div>\n",
       "<style scoped>\n",
       "    .dataframe tbody tr th:only-of-type {\n",
       "        vertical-align: middle;\n",
       "    }\n",
       "\n",
       "    .dataframe tbody tr th {\n",
       "        vertical-align: top;\n",
       "    }\n",
       "\n",
       "    .dataframe thead th {\n",
       "        text-align: right;\n",
       "    }\n",
       "</style>\n",
       "<table border=\"1\" class=\"dataframe\">\n",
       "  <thead>\n",
       "    <tr style=\"text-align: right;\">\n",
       "      <th></th>\n",
       "      <th>url</th>\n",
       "      <th>label</th>\n",
       "      <th>file_label</th>\n",
       "      <th>root_dir</th>\n",
       "    </tr>\n",
       "  </thead>\n",
       "  <tbody>\n",
       "    <tr>\n",
       "      <th>0</th>\n",
       "      <td>https://as2.ftcdn.net/jpg/01/00/05/13/220_F_10...</td>\n",
       "      <td>5</td>\n",
       "      <td>5_220_F_100051346_fMXwB7fetIoecIVpiIO4fKXLi3ub...</td>\n",
       "      <td>../data/images/train</td>\n",
       "    </tr>\n",
       "    <tr>\n",
       "      <th>1</th>\n",
       "      <td>https://as2.ftcdn.net/jpg/01/00/05/13/220_F_10...</td>\n",
       "      <td>5</td>\n",
       "      <td>5_220_F_100051362_ApZcxuHV3WPYhnjFhTgllWLGkimv...</td>\n",
       "      <td>../data/images/train</td>\n",
       "    </tr>\n",
       "    <tr>\n",
       "      <th>2</th>\n",
       "      <td>https://as2.ftcdn.net/jpg/01/00/05/13/220_F_10...</td>\n",
       "      <td>5</td>\n",
       "      <td>5_220_F_100051376_xO657hrup4y1lXxV2IBAdfyjSR4p...</td>\n",
       "      <td>../data/images/train</td>\n",
       "    </tr>\n",
       "    <tr>\n",
       "      <th>3</th>\n",
       "      <td>https://as2.ftcdn.net/jpg/01/00/05/13/220_F_10...</td>\n",
       "      <td>5</td>\n",
       "      <td>5_220_F_100051390_pifF64bRGPv50H2wsjPOXVPMfWVR...</td>\n",
       "      <td>../data/images/train</td>\n",
       "    </tr>\n",
       "    <tr>\n",
       "      <th>4</th>\n",
       "      <td>https://as2.ftcdn.net/jpg/01/00/05/14/220_F_10...</td>\n",
       "      <td>5</td>\n",
       "      <td>5_220_F_100051405_J3UxGKqrsgHutsqwsHUGmC5b5AyH...</td>\n",
       "      <td>../data/images/train</td>\n",
       "    </tr>\n",
       "  </tbody>\n",
       "</table>\n",
       "</div>"
      ],
      "text/plain": [
       "                                                 url  label  \\\n",
       "0  https://as2.ftcdn.net/jpg/01/00/05/13/220_F_10...      5   \n",
       "1  https://as2.ftcdn.net/jpg/01/00/05/13/220_F_10...      5   \n",
       "2  https://as2.ftcdn.net/jpg/01/00/05/13/220_F_10...      5   \n",
       "3  https://as2.ftcdn.net/jpg/01/00/05/13/220_F_10...      5   \n",
       "4  https://as2.ftcdn.net/jpg/01/00/05/14/220_F_10...      5   \n",
       "\n",
       "                                          file_label              root_dir  \n",
       "0  5_220_F_100051346_fMXwB7fetIoecIVpiIO4fKXLi3ub...  ../data/images/train  \n",
       "1  5_220_F_100051362_ApZcxuHV3WPYhnjFhTgllWLGkimv...  ../data/images/train  \n",
       "2  5_220_F_100051376_xO657hrup4y1lXxV2IBAdfyjSR4p...  ../data/images/train  \n",
       "3  5_220_F_100051390_pifF64bRGPv50H2wsjPOXVPMfWVR...  ../data/images/train  \n",
       "4  5_220_F_100051405_J3UxGKqrsgHutsqwsHUGmC5b5AyH...  ../data/images/train  "
      ]
     },
     "execution_count": 34,
     "metadata": {},
     "output_type": "execute_result"
    }
   ],
   "source": [
    "train.head()"
   ]
  },
  {
   "cell_type": "markdown",
   "metadata": {
    "Collapsed": "false"
   },
   "source": [
    "<br>\n",
    "Before doing any more processing, I download all of the images.\n",
    "\n",
    "**WARNING: uncommenting and running this will begin downloading ~268,000 images locally.**"
   ]
  },
  {
   "cell_type": "code",
   "execution_count": 192,
   "metadata": {
    "Collapsed": "false"
   },
   "outputs": [],
   "source": [
    "# pool_image_retrieval(train_df)\n",
    "# pool_image_retrieval(test_df)"
   ]
  },
  {
   "cell_type": "markdown",
   "metadata": {
    "Collapsed": "false"
   },
   "source": [
    "<br>\n",
    "With that done, I tidy up the dataframes, dropping unnecessary columns and adding in the level-1 and level-2 labels."
   ]
  },
  {
   "cell_type": "code",
   "execution_count": 50,
   "metadata": {
    "Collapsed": "false"
   },
   "outputs": [],
   "source": [
    "lvl_one_map, lvl_two_map = g.label_dicts()\n",
    "train = train.rename(columns={'label': 'lvl_three'}) \\\n",
    "             .drop(['url', 'root_dir'], axis=1) \\\n",
    "             [['file_label', 'lvl_three']]\n",
    "test = test.rename(columns={'label': 'lvl_three'}) \\\n",
    "           .drop(['url', 'root_dir'], axis=1) \\\n",
    "           [['file_label', 'lvl_three']]"
   ]
  },
  {
   "cell_type": "code",
   "execution_count": 59,
   "metadata": {
    "Collapsed": "false"
   },
   "outputs": [],
   "source": [
    "train, test = g.retrieve_labels(train, test, lvl_one_map, lvl_two_map)"
   ]
  },
  {
   "cell_type": "code",
   "execution_count": 60,
   "metadata": {
    "Collapsed": "false"
   },
   "outputs": [
    {
     "data": {
      "text/html": [
       "<div>\n",
       "<style scoped>\n",
       "    .dataframe tbody tr th:only-of-type {\n",
       "        vertical-align: middle;\n",
       "    }\n",
       "\n",
       "    .dataframe tbody tr th {\n",
       "        vertical-align: top;\n",
       "    }\n",
       "\n",
       "    .dataframe thead th {\n",
       "        text-align: right;\n",
       "    }\n",
       "</style>\n",
       "<table border=\"1\" class=\"dataframe\">\n",
       "  <thead>\n",
       "    <tr style=\"text-align: right;\">\n",
       "      <th></th>\n",
       "      <th>file_label</th>\n",
       "      <th>lvl_three</th>\n",
       "      <th>lvl_one</th>\n",
       "      <th>lvl_two</th>\n",
       "    </tr>\n",
       "  </thead>\n",
       "  <tbody>\n",
       "    <tr>\n",
       "      <th>0</th>\n",
       "      <td>5_220_F_100051346_fMXwB7fetIoecIVpiIO4fKXLi3ub...</td>\n",
       "      <td>5</td>\n",
       "      <td>0</td>\n",
       "      <td>0</td>\n",
       "    </tr>\n",
       "    <tr>\n",
       "      <th>1</th>\n",
       "      <td>5_220_F_100051362_ApZcxuHV3WPYhnjFhTgllWLGkimv...</td>\n",
       "      <td>5</td>\n",
       "      <td>0</td>\n",
       "      <td>0</td>\n",
       "    </tr>\n",
       "    <tr>\n",
       "      <th>2</th>\n",
       "      <td>5_220_F_100051376_xO657hrup4y1lXxV2IBAdfyjSR4p...</td>\n",
       "      <td>5</td>\n",
       "      <td>0</td>\n",
       "      <td>0</td>\n",
       "    </tr>\n",
       "    <tr>\n",
       "      <th>3</th>\n",
       "      <td>5_220_F_100051390_pifF64bRGPv50H2wsjPOXVPMfWVR...</td>\n",
       "      <td>5</td>\n",
       "      <td>0</td>\n",
       "      <td>0</td>\n",
       "    </tr>\n",
       "    <tr>\n",
       "      <th>4</th>\n",
       "      <td>5_220_F_100051405_J3UxGKqrsgHutsqwsHUGmC5b5AyH...</td>\n",
       "      <td>5</td>\n",
       "      <td>0</td>\n",
       "      <td>0</td>\n",
       "    </tr>\n",
       "  </tbody>\n",
       "</table>\n",
       "</div>"
      ],
      "text/plain": [
       "                                          file_label  lvl_three  lvl_one  \\\n",
       "0  5_220_F_100051346_fMXwB7fetIoecIVpiIO4fKXLi3ub...          5        0   \n",
       "1  5_220_F_100051362_ApZcxuHV3WPYhnjFhTgllWLGkimv...          5        0   \n",
       "2  5_220_F_100051376_xO657hrup4y1lXxV2IBAdfyjSR4p...          5        0   \n",
       "3  5_220_F_100051390_pifF64bRGPv50H2wsjPOXVPMfWVR...          5        0   \n",
       "4  5_220_F_100051405_J3UxGKqrsgHutsqwsHUGmC5b5AyH...          5        0   \n",
       "\n",
       "   lvl_two  \n",
       "0        0  \n",
       "1        0  \n",
       "2        0  \n",
       "3        0  \n",
       "4        0  "
      ]
     },
     "execution_count": 60,
     "metadata": {},
     "output_type": "execute_result"
    }
   ],
   "source": [
    "train.head()"
   ]
  },
  {
   "cell_type": "code",
   "execution_count": 123,
   "metadata": {
    "Collapsed": "false"
   },
   "outputs": [],
   "source": [
    "# train_df.to_csv('../data/csvs/train.csv')\n",
    "# test_df.to_csv('../data/csvs/test.csv')"
   ]
  }
 ],
 "metadata": {
  "kernelspec": {
   "display_name": "Python 3",
   "language": "python",
   "name": "python3"
  },
  "language_info": {
   "codemirror_mode": {
    "name": "ipython",
    "version": 3
   },
   "file_extension": ".py",
   "mimetype": "text/x-python",
   "name": "python",
   "nbconvert_exporter": "python",
   "pygments_lexer": "ipython3",
   "version": "3.7.6"
  }
 },
 "nbformat": 4,
 "nbformat_minor": 4
}
